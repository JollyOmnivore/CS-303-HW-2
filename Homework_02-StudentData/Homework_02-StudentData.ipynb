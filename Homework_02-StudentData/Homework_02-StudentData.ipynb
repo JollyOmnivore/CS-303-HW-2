{
 "cells": [
  {
   "cell_type": "markdown",
   "id": "da8e8ddf",
   "metadata": {},
   "source": [
    "# import statements"
   ]
  },
  {
   "cell_type": "code",
   "execution_count": 1,
   "id": "e0dda12c",
   "metadata": {},
   "outputs": [],
   "source": [
    "import pandas as pd\n",
    "import numpy as np \n",
    "from collections import Counter"
   ]
  },
  {
   "cell_type": "markdown",
   "id": "a387acc1",
   "metadata": {},
   "source": [
    "# code to read student.csv into pandas dataframe "
   ]
  },
  {
   "cell_type": "code",
   "execution_count": 12,
   "id": "d7907a5f",
   "metadata": {},
   "outputs": [],
   "source": [
    "df = pd.read_csv('student.csv', delimiter = ';')\n"
   ]
  },
  {
   "cell_type": "markdown",
   "id": "9763d0ec",
   "metadata": {},
   "source": [
    "# helper functions (if needed)"
   ]
  },
  {
   "cell_type": "code",
   "execution_count": 148,
   "id": "449bea30",
   "metadata": {},
   "outputs": [
    {
     "name": "stdout",
     "output_type": "stream",
     "text": [
      "Index(['school', 'sex', 'age', 'address', 'famsize', 'Pstatus', 'Medu', 'Fedu',\n",
      "       'Mjob', 'Fjob', 'reason', 'guardian', 'traveltime', 'studytime',\n",
      "       'failures', 'schoolsup', 'famsup', 'paid', 'activities', 'nursery',\n",
      "       'higher', 'internet', 'romantic', 'famrel', 'freetime', 'goout', 'Dalc',\n",
      "       'Walc', 'health', 'absences', 'G1', 'G2', 'G3'],\n",
      "      dtype='object')\n",
      "0       6\n",
      "1       6\n",
      "2      10\n",
      "3      15\n",
      "4      10\n",
      "       ..\n",
      "390     9\n",
      "391    16\n",
      "392     7\n",
      "393    10\n",
      "394     9\n",
      "Name: G3, Length: 395, dtype: int64\n"
     ]
    }
   ],
   "source": [
    "\n",
    "print(df.columns)\n",
    "print(df['G3'])"
   ]
  },
  {
   "cell_type": "markdown",
   "id": "7dd6f204",
   "metadata": {},
   "source": [
    "# Python code to answer question 1) What is the minimum, maximum, average, and median final grade (G3 column)?"
   ]
  },
  {
   "cell_type": "code",
   "execution_count": 149,
   "id": "b4814463",
   "metadata": {},
   "outputs": [
    {
     "name": "stdout",
     "output_type": "stream",
     "text": [
      "G3 column minimum final grade \n",
      "0\n",
      "G3 column maximum final grade \n",
      "20\n",
      "G3 column median final grade \n",
      "11.0\n",
      "G3 column average final grade \n",
      "10.415189873417722\n"
     ]
    }
   ],
   "source": [
    "q1 = df['G3']\n",
    "\n",
    "\n",
    "print(\"G3 column minimum final grade \")\n",
    "min= np.min(q1)\n",
    "print(min)\n",
    "\n",
    "print(\"G3 column maximum final grade \")\n",
    "max= np.max(q1)\n",
    "print(max)\n",
    "\n",
    "print(\"G3 column median final grade \")\n",
    "medi= np.median(q1)\n",
    "print(medi)\n",
    "\n",
    "print(\"G3 column average final grade \")\n",
    "avg = np.mean(q1)\n",
    "print(avg)\n"
   ]
  },
  {
   "cell_type": "markdown",
   "id": "4208ba32",
   "metadata": {},
   "source": [
    "# Text answer for question 1."
   ]
  },
  {
   "cell_type": "markdown",
   "id": "82e22871",
   "metadata": {},
   "source": [
    "G3 column minimum final grade 0\n",
    "G3 column maximum final grade 20\n",
    "G3 column median final grade 11.0\n",
    "G3 column average final grade 10.415189873417722"
   ]
  },
  {
   "cell_type": "markdown",
   "id": "f7c61c23",
   "metadata": {},
   "source": [
    "# Python code to answer question 2) Which subgroup of sex, male or female, had the highest average final grade (G3)?"
   ]
  },
  {
   "cell_type": "code",
   "execution_count": 150,
   "id": "d06212a1",
   "metadata": {},
   "outputs": [
    {
     "data": {
      "text/plain": [
       "sex\n",
       "F     9.966346\n",
       "M    10.914439\n",
       "Name: G3, dtype: float64"
      ]
     },
     "execution_count": 150,
     "metadata": {},
     "output_type": "execute_result"
    }
   ],
   "source": [
    "df.groupby(['sex'])['G3'].mean()"
   ]
  },
  {
   "cell_type": "markdown",
   "id": "694c9f29",
   "metadata": {},
   "source": [
    "# Text answer for question 2.  "
   ]
  },
  {
   "cell_type": "markdown",
   "id": "39b7ecca",
   "metadata": {},
   "source": [
    "F     9.966346\n",
    "M    10.914439"
   ]
  },
  {
   "cell_type": "markdown",
   "id": "e6f360bb",
   "metadata": {},
   "source": [
    "# Python code to answer question 3) Which subgroup of Fjob had the lowest average final grade?"
   ]
  },
  {
   "cell_type": "code",
   "execution_count": 151,
   "id": "518894ca",
   "metadata": {},
   "outputs": [
    {
     "name": "stdout",
     "output_type": "stream",
     "text": [
      "Fjob\n",
      "at_home    10.15\n",
      "Name: G3, dtype: float64\n"
     ]
    }
   ],
   "source": [
    "subgroup = df.groupby(['Fjob'])['G3'].mean()\n",
    "print(subgroup.head(1))"
   ]
  },
  {
   "cell_type": "markdown",
   "id": "81584745",
   "metadata": {},
   "source": [
    "# Text answer for question 3."
   ]
  },
  {
   "cell_type": "markdown",
   "id": "907a278a",
   "metadata": {},
   "source": [
    "at_home    10.15"
   ]
  },
  {
   "cell_type": "markdown",
   "id": "2c6e2867",
   "metadata": {},
   "source": [
    "# Python code to answer question 4) On average, did students in romantic relationships get higher or lower final grades?"
   ]
  },
  {
   "cell_type": "code",
   "execution_count": 152,
   "id": "dbdda23b",
   "metadata": {},
   "outputs": [
    {
     "name": "stdout",
     "output_type": "stream",
     "text": [
      "romantic\n",
      "no     10.836502\n",
      "yes     9.575758\n",
      "Name: G3, dtype: float64\n"
     ]
    }
   ],
   "source": [
    "subgroup = df.groupby(['romantic'])['G3'].mean()\n",
    "print(subgroup)"
   ]
  },
  {
   "cell_type": "markdown",
   "id": "5b229575",
   "metadata": {},
   "source": [
    "# Text answer for question 4."
   ]
  },
  {
   "cell_type": "markdown",
   "id": "f7fa543a",
   "metadata": {},
   "source": [
    "no     10.836502\n",
    "yes     9.575758\n",
    "on average no romantic people got a better final grade"
   ]
  },
  {
   "cell_type": "markdown",
   "id": "6a27f637",
   "metadata": {},
   "source": [
    "# Python code to answer question 5) On average, do people with internet access at home make higher or lower final grades than people without internet? "
   ]
  },
  {
   "cell_type": "code",
   "execution_count": 153,
   "id": "13b97032",
   "metadata": {},
   "outputs": [],
   "source": [
    "subgroup = df.groupby(['internet'])['G3'].mean()\n",
    "\n"
   ]
  },
  {
   "cell_type": "markdown",
   "id": "9b2e1f51",
   "metadata": {},
   "source": [
    "# Text answer for question 5."
   ]
  },
  {
   "cell_type": "markdown",
   "id": "170104f9",
   "metadata": {},
   "source": [
    "no      9.409091\n",
    "yes    10.617021\n",
    "on average those with internet at home got a better final grade"
   ]
  },
  {
   "cell_type": "markdown",
   "id": "62edcfc3",
   "metadata": {},
   "source": [
    "# Python code to answer question 6) What percentage of male students are in romantic relationships?  What percentage of female students are in romantic relationships?"
   ]
  },
  {
   "cell_type": "code",
   "execution_count": 154,
   "id": "22fe5f9e",
   "metadata": {},
   "outputs": [
    {
     "name": "stdout",
     "output_type": "stream",
     "text": [
      "male\n",
      "13.41772151898734\n",
      "female\n",
      "20.0\n"
     ]
    }
   ],
   "source": [
    "romantic = df['romantic'] == 'yes'\n",
    "x = df['sex'][romantic]\n",
    "romantic = x == 'M'\n",
    "counts = Counter(romantic)\n",
    "num = counts[True]\n",
    "perc = 100 * ( num / len(df))\n",
    "print(\"male\")\n",
    "print(perc)\n",
    "\n",
    "\n",
    "romantic = df['romantic'] == 'yes'\n",
    "x = df['sex'][romantic]\n",
    "romantic = x == 'F'\n",
    "counts = Counter(romantic)\n",
    "num = counts[True]\n",
    "perc = 100 * ( num / len(df))\n",
    "print(\"female\")\n",
    "print(perc)\n"
   ]
  },
  {
   "cell_type": "markdown",
   "id": "9f65c8eb",
   "metadata": {},
   "source": [
    "# Text answer for question 6."
   ]
  },
  {
   "cell_type": "markdown",
   "id": "e72d6a52",
   "metadata": {},
   "source": [
    "male\n",
    "47.34177215189874\n",
    "\n",
    "female\n",
    "52.65822784810127"
   ]
  },
  {
   "cell_type": "markdown",
   "id": "c0d8fdbf",
   "metadata": {},
   "source": [
    "# Python code to answer question 7) What is the correlation between freetime and final grade? "
   ]
  },
  {
   "cell_type": "code",
   "execution_count": 155,
   "id": "2f94cedd",
   "metadata": {},
   "outputs": [
    {
     "name": "stdout",
     "output_type": "stream",
     "text": [
      "0.011307240308313022\n"
     ]
    }
   ],
   "source": [
    "corr = df['freetime'].corr(df['G3'])\n",
    "print(corr)"
   ]
  },
  {
   "cell_type": "markdown",
   "id": "c1a2c0a7",
   "metadata": {},
   "source": [
    "# Text answer for question 7."
   ]
  },
  {
   "cell_type": "markdown",
   "id": "f28bb7ba",
   "metadata": {},
   "source": [
    " correlation between freetime and final grade is 0.011307240308313022"
   ]
  },
  {
   "cell_type": "markdown",
   "id": "f4aa961e",
   "metadata": {},
   "source": [
    "# Python code to answer question 8) What is the correlation between studytime and final grade? "
   ]
  },
  {
   "cell_type": "code",
   "execution_count": 156,
   "id": "fd4ee11d",
   "metadata": {},
   "outputs": [
    {
     "name": "stdout",
     "output_type": "stream",
     "text": [
      "0.09781968965319633\n"
     ]
    }
   ],
   "source": [
    "corr = df['studytime'].corr(df['G3'])\n",
    "print(corr)"
   ]
  },
  {
   "cell_type": "markdown",
   "id": "ef602b6a",
   "metadata": {},
   "source": [
    "# Text answer for question 8."
   ]
  },
  {
   "cell_type": "markdown",
   "id": "8939ae06",
   "metadata": {},
   "source": [
    "the correlation between studytime and final grade is 0.09781968965319633"
   ]
  },
  {
   "cell_type": "markdown",
   "id": "e0ca73e2",
   "metadata": {},
   "source": [
    "# Python code to answer question 9) What is the correlation between studytime and freetime? "
   ]
  },
  {
   "cell_type": "code",
   "execution_count": 157,
   "id": "7358c900",
   "metadata": {},
   "outputs": [
    {
     "name": "stdout",
     "output_type": "stream",
     "text": [
      "-0.14319840716795168\n"
     ]
    }
   ],
   "source": [
    "corr = df['studytime'].corr(df['freetime'])\n",
    "print(corr)"
   ]
  },
  {
   "cell_type": "markdown",
   "id": "cbcc4315",
   "metadata": {},
   "source": [
    "# Text answer for question 9."
   ]
  },
  {
   "cell_type": "markdown",
   "id": "655d09b5",
   "metadata": {},
   "source": [
    "the correlation between studytime and freetime is -0.14319840716795168"
   ]
  },
  {
   "cell_type": "markdown",
   "id": "b34487c5",
   "metadata": {},
   "source": [
    "# Python code to answer question 10) Excluding columns G1 and G2, which numerical column had the biggest correlation with final grade (G3)?"
   ]
  },
  {
   "cell_type": "code",
   "execution_count": 158,
   "id": "eca746e9",
   "metadata": {},
   "outputs": [
    {
     "name": "stdout",
     "output_type": "stream",
     "text": [
      "school\n"
     ]
    },
    {
     "ename": "TypeError",
     "evalue": "unsupported operand type(s) for /: 'str' and 'int'",
     "output_type": "error",
     "traceback": [
      "\u001b[1;31m---------------------------------------------------------------------------\u001b[0m",
      "\u001b[1;31mTypeError\u001b[0m                                 Traceback (most recent call last)",
      "\u001b[1;32m~\\AppData\\Local\\Temp\\ipykernel_13344\\629320942.py\u001b[0m in \u001b[0;36m<module>\u001b[1;34m\u001b[0m\n\u001b[0;32m      9\u001b[0m \u001b[1;33m\u001b[0m\u001b[0m\n\u001b[0;32m     10\u001b[0m \u001b[0mprint\u001b[0m\u001b[1;33m(\u001b[0m\u001b[1;34m\"school\"\u001b[0m\u001b[1;33m)\u001b[0m\u001b[1;33m\u001b[0m\u001b[1;33m\u001b[0m\u001b[0m\n\u001b[1;32m---> 11\u001b[1;33m \u001b[0mcorr\u001b[0m \u001b[1;33m=\u001b[0m \u001b[0mdf\u001b[0m\u001b[1;33m[\u001b[0m\u001b[1;34m'school'\u001b[0m\u001b[1;33m]\u001b[0m\u001b[1;33m.\u001b[0m\u001b[0mcorr\u001b[0m\u001b[1;33m(\u001b[0m\u001b[0mdf\u001b[0m\u001b[1;33m[\u001b[0m\u001b[1;34m'G3'\u001b[0m\u001b[1;33m]\u001b[0m\u001b[1;33m)\u001b[0m\u001b[1;33m\u001b[0m\u001b[1;33m\u001b[0m\u001b[0m\n\u001b[0m\u001b[0;32m     12\u001b[0m \u001b[0mprint\u001b[0m\u001b[1;33m(\u001b[0m\u001b[0mcorr\u001b[0m\u001b[1;33m)\u001b[0m\u001b[1;33m\u001b[0m\u001b[1;33m\u001b[0m\u001b[0m\n\u001b[0;32m     13\u001b[0m \u001b[0mprint\u001b[0m\u001b[1;33m(\u001b[0m\u001b[1;34m\"sex\"\u001b[0m\u001b[1;33m)\u001b[0m\u001b[1;33m\u001b[0m\u001b[1;33m\u001b[0m\u001b[0m\n",
      "\u001b[1;32m~\\anaconda3\\lib\\site-packages\\pandas\\core\\series.py\u001b[0m in \u001b[0;36mcorr\u001b[1;34m(self, other, method, min_periods)\u001b[0m\n\u001b[0;32m   2555\u001b[0m \u001b[1;33m\u001b[0m\u001b[0m\n\u001b[0;32m   2556\u001b[0m         \u001b[1;32mif\u001b[0m \u001b[0mmethod\u001b[0m \u001b[1;32min\u001b[0m \u001b[1;33m[\u001b[0m\u001b[1;34m\"pearson\"\u001b[0m\u001b[1;33m,\u001b[0m \u001b[1;34m\"spearman\"\u001b[0m\u001b[1;33m,\u001b[0m \u001b[1;34m\"kendall\"\u001b[0m\u001b[1;33m]\u001b[0m \u001b[1;32mor\u001b[0m \u001b[0mcallable\u001b[0m\u001b[1;33m(\u001b[0m\u001b[0mmethod\u001b[0m\u001b[1;33m)\u001b[0m\u001b[1;33m:\u001b[0m\u001b[1;33m\u001b[0m\u001b[1;33m\u001b[0m\u001b[0m\n\u001b[1;32m-> 2557\u001b[1;33m             return nanops.nancorr(\n\u001b[0m\u001b[0;32m   2558\u001b[0m                 \u001b[0mthis\u001b[0m\u001b[1;33m.\u001b[0m\u001b[0mvalues\u001b[0m\u001b[1;33m,\u001b[0m \u001b[0mother\u001b[0m\u001b[1;33m.\u001b[0m\u001b[0mvalues\u001b[0m\u001b[1;33m,\u001b[0m \u001b[0mmethod\u001b[0m\u001b[1;33m=\u001b[0m\u001b[0mmethod\u001b[0m\u001b[1;33m,\u001b[0m \u001b[0mmin_periods\u001b[0m\u001b[1;33m=\u001b[0m\u001b[0mmin_periods\u001b[0m\u001b[1;33m\u001b[0m\u001b[1;33m\u001b[0m\u001b[0m\n\u001b[0;32m   2559\u001b[0m             )\n",
      "\u001b[1;32m~\\anaconda3\\lib\\site-packages\\pandas\\core\\nanops.py\u001b[0m in \u001b[0;36m_f\u001b[1;34m(*args, **kwargs)\u001b[0m\n\u001b[0;32m     91\u001b[0m             \u001b[1;32mtry\u001b[0m\u001b[1;33m:\u001b[0m\u001b[1;33m\u001b[0m\u001b[1;33m\u001b[0m\u001b[0m\n\u001b[0;32m     92\u001b[0m                 \u001b[1;32mwith\u001b[0m \u001b[0mnp\u001b[0m\u001b[1;33m.\u001b[0m\u001b[0merrstate\u001b[0m\u001b[1;33m(\u001b[0m\u001b[0minvalid\u001b[0m\u001b[1;33m=\u001b[0m\u001b[1;34m\"ignore\"\u001b[0m\u001b[1;33m)\u001b[0m\u001b[1;33m:\u001b[0m\u001b[1;33m\u001b[0m\u001b[1;33m\u001b[0m\u001b[0m\n\u001b[1;32m---> 93\u001b[1;33m                     \u001b[1;32mreturn\u001b[0m \u001b[0mf\u001b[0m\u001b[1;33m(\u001b[0m\u001b[1;33m*\u001b[0m\u001b[0margs\u001b[0m\u001b[1;33m,\u001b[0m \u001b[1;33m**\u001b[0m\u001b[0mkwargs\u001b[0m\u001b[1;33m)\u001b[0m\u001b[1;33m\u001b[0m\u001b[1;33m\u001b[0m\u001b[0m\n\u001b[0m\u001b[0;32m     94\u001b[0m             \u001b[1;32mexcept\u001b[0m \u001b[0mValueError\u001b[0m \u001b[1;32mas\u001b[0m \u001b[0me\u001b[0m\u001b[1;33m:\u001b[0m\u001b[1;33m\u001b[0m\u001b[1;33m\u001b[0m\u001b[0m\n\u001b[0;32m     95\u001b[0m                 \u001b[1;31m# we want to transform an object array\u001b[0m\u001b[1;33m\u001b[0m\u001b[1;33m\u001b[0m\u001b[0m\n",
      "\u001b[1;32m~\\anaconda3\\lib\\site-packages\\pandas\\core\\nanops.py\u001b[0m in \u001b[0;36mnancorr\u001b[1;34m(a, b, method, min_periods)\u001b[0m\n\u001b[0;32m   1544\u001b[0m \u001b[1;33m\u001b[0m\u001b[0m\n\u001b[0;32m   1545\u001b[0m     \u001b[0mf\u001b[0m \u001b[1;33m=\u001b[0m \u001b[0mget_corr_func\u001b[0m\u001b[1;33m(\u001b[0m\u001b[0mmethod\u001b[0m\u001b[1;33m)\u001b[0m\u001b[1;33m\u001b[0m\u001b[1;33m\u001b[0m\u001b[0m\n\u001b[1;32m-> 1546\u001b[1;33m     \u001b[1;32mreturn\u001b[0m \u001b[0mf\u001b[0m\u001b[1;33m(\u001b[0m\u001b[0ma\u001b[0m\u001b[1;33m,\u001b[0m \u001b[0mb\u001b[0m\u001b[1;33m)\u001b[0m\u001b[1;33m\u001b[0m\u001b[1;33m\u001b[0m\u001b[0m\n\u001b[0m\u001b[0;32m   1547\u001b[0m \u001b[1;33m\u001b[0m\u001b[0m\n\u001b[0;32m   1548\u001b[0m \u001b[1;33m\u001b[0m\u001b[0m\n",
      "\u001b[1;32m~\\anaconda3\\lib\\site-packages\\pandas\\core\\nanops.py\u001b[0m in \u001b[0;36mfunc\u001b[1;34m(a, b)\u001b[0m\n\u001b[0;32m   1565\u001b[0m \u001b[1;33m\u001b[0m\u001b[0m\n\u001b[0;32m   1566\u001b[0m         \u001b[1;32mdef\u001b[0m \u001b[0mfunc\u001b[0m\u001b[1;33m(\u001b[0m\u001b[0ma\u001b[0m\u001b[1;33m,\u001b[0m \u001b[0mb\u001b[0m\u001b[1;33m)\u001b[0m\u001b[1;33m:\u001b[0m\u001b[1;33m\u001b[0m\u001b[1;33m\u001b[0m\u001b[0m\n\u001b[1;32m-> 1567\u001b[1;33m             \u001b[1;32mreturn\u001b[0m \u001b[0mnp\u001b[0m\u001b[1;33m.\u001b[0m\u001b[0mcorrcoef\u001b[0m\u001b[1;33m(\u001b[0m\u001b[0ma\u001b[0m\u001b[1;33m,\u001b[0m \u001b[0mb\u001b[0m\u001b[1;33m)\u001b[0m\u001b[1;33m[\u001b[0m\u001b[1;36m0\u001b[0m\u001b[1;33m,\u001b[0m \u001b[1;36m1\u001b[0m\u001b[1;33m]\u001b[0m\u001b[1;33m\u001b[0m\u001b[1;33m\u001b[0m\u001b[0m\n\u001b[0m\u001b[0;32m   1568\u001b[0m \u001b[1;33m\u001b[0m\u001b[0m\n\u001b[0;32m   1569\u001b[0m         \u001b[1;32mreturn\u001b[0m \u001b[0mfunc\u001b[0m\u001b[1;33m\u001b[0m\u001b[1;33m\u001b[0m\u001b[0m\n",
      "\u001b[1;32m<__array_function__ internals>\u001b[0m in \u001b[0;36mcorrcoef\u001b[1;34m(*args, **kwargs)\u001b[0m\n",
      "\u001b[1;32m~\\anaconda3\\lib\\site-packages\\numpy\\lib\\function_base.py\u001b[0m in \u001b[0;36mcorrcoef\u001b[1;34m(x, y, rowvar, bias, ddof, dtype)\u001b[0m\n\u001b[0;32m   2681\u001b[0m         warnings.warn('bias and ddof have no effect and are deprecated',\n\u001b[0;32m   2682\u001b[0m                       DeprecationWarning, stacklevel=3)\n\u001b[1;32m-> 2683\u001b[1;33m     \u001b[0mc\u001b[0m \u001b[1;33m=\u001b[0m \u001b[0mcov\u001b[0m\u001b[1;33m(\u001b[0m\u001b[0mx\u001b[0m\u001b[1;33m,\u001b[0m \u001b[0my\u001b[0m\u001b[1;33m,\u001b[0m \u001b[0mrowvar\u001b[0m\u001b[1;33m,\u001b[0m \u001b[0mdtype\u001b[0m\u001b[1;33m=\u001b[0m\u001b[0mdtype\u001b[0m\u001b[1;33m)\u001b[0m\u001b[1;33m\u001b[0m\u001b[1;33m\u001b[0m\u001b[0m\n\u001b[0m\u001b[0;32m   2684\u001b[0m     \u001b[1;32mtry\u001b[0m\u001b[1;33m:\u001b[0m\u001b[1;33m\u001b[0m\u001b[1;33m\u001b[0m\u001b[0m\n\u001b[0;32m   2685\u001b[0m         \u001b[0md\u001b[0m \u001b[1;33m=\u001b[0m \u001b[0mdiag\u001b[0m\u001b[1;33m(\u001b[0m\u001b[0mc\u001b[0m\u001b[1;33m)\u001b[0m\u001b[1;33m\u001b[0m\u001b[1;33m\u001b[0m\u001b[0m\n",
      "\u001b[1;32m<__array_function__ internals>\u001b[0m in \u001b[0;36mcov\u001b[1;34m(*args, **kwargs)\u001b[0m\n",
      "\u001b[1;32m~\\anaconda3\\lib\\site-packages\\numpy\\lib\\function_base.py\u001b[0m in \u001b[0;36mcov\u001b[1;34m(m, y, rowvar, bias, ddof, fweights, aweights, dtype)\u001b[0m\n\u001b[0;32m   2516\u001b[0m             \u001b[0mw\u001b[0m \u001b[1;33m*=\u001b[0m \u001b[0maweights\u001b[0m\u001b[1;33m\u001b[0m\u001b[1;33m\u001b[0m\u001b[0m\n\u001b[0;32m   2517\u001b[0m \u001b[1;33m\u001b[0m\u001b[0m\n\u001b[1;32m-> 2518\u001b[1;33m     \u001b[0mavg\u001b[0m\u001b[1;33m,\u001b[0m \u001b[0mw_sum\u001b[0m \u001b[1;33m=\u001b[0m \u001b[0maverage\u001b[0m\u001b[1;33m(\u001b[0m\u001b[0mX\u001b[0m\u001b[1;33m,\u001b[0m \u001b[0maxis\u001b[0m\u001b[1;33m=\u001b[0m\u001b[1;36m1\u001b[0m\u001b[1;33m,\u001b[0m \u001b[0mweights\u001b[0m\u001b[1;33m=\u001b[0m\u001b[0mw\u001b[0m\u001b[1;33m,\u001b[0m \u001b[0mreturned\u001b[0m\u001b[1;33m=\u001b[0m\u001b[1;32mTrue\u001b[0m\u001b[1;33m)\u001b[0m\u001b[1;33m\u001b[0m\u001b[1;33m\u001b[0m\u001b[0m\n\u001b[0m\u001b[0;32m   2519\u001b[0m     \u001b[0mw_sum\u001b[0m \u001b[1;33m=\u001b[0m \u001b[0mw_sum\u001b[0m\u001b[1;33m[\u001b[0m\u001b[1;36m0\u001b[0m\u001b[1;33m]\u001b[0m\u001b[1;33m\u001b[0m\u001b[1;33m\u001b[0m\u001b[0m\n\u001b[0;32m   2520\u001b[0m \u001b[1;33m\u001b[0m\u001b[0m\n",
      "\u001b[1;32m<__array_function__ internals>\u001b[0m in \u001b[0;36maverage\u001b[1;34m(*args, **kwargs)\u001b[0m\n",
      "\u001b[1;32m~\\anaconda3\\lib\\site-packages\\numpy\\lib\\function_base.py\u001b[0m in \u001b[0;36maverage\u001b[1;34m(a, axis, weights, returned)\u001b[0m\n\u001b[0;32m    378\u001b[0m \u001b[1;33m\u001b[0m\u001b[0m\n\u001b[0;32m    379\u001b[0m     \u001b[1;32mif\u001b[0m \u001b[0mweights\u001b[0m \u001b[1;32mis\u001b[0m \u001b[1;32mNone\u001b[0m\u001b[1;33m:\u001b[0m\u001b[1;33m\u001b[0m\u001b[1;33m\u001b[0m\u001b[0m\n\u001b[1;32m--> 380\u001b[1;33m         \u001b[0mavg\u001b[0m \u001b[1;33m=\u001b[0m \u001b[0ma\u001b[0m\u001b[1;33m.\u001b[0m\u001b[0mmean\u001b[0m\u001b[1;33m(\u001b[0m\u001b[0maxis\u001b[0m\u001b[1;33m)\u001b[0m\u001b[1;33m\u001b[0m\u001b[1;33m\u001b[0m\u001b[0m\n\u001b[0m\u001b[0;32m    381\u001b[0m         \u001b[0mscl\u001b[0m \u001b[1;33m=\u001b[0m \u001b[0mavg\u001b[0m\u001b[1;33m.\u001b[0m\u001b[0mdtype\u001b[0m\u001b[1;33m.\u001b[0m\u001b[0mtype\u001b[0m\u001b[1;33m(\u001b[0m\u001b[0ma\u001b[0m\u001b[1;33m.\u001b[0m\u001b[0msize\u001b[0m\u001b[1;33m/\u001b[0m\u001b[0mavg\u001b[0m\u001b[1;33m.\u001b[0m\u001b[0msize\u001b[0m\u001b[1;33m)\u001b[0m\u001b[1;33m\u001b[0m\u001b[1;33m\u001b[0m\u001b[0m\n\u001b[0;32m    382\u001b[0m     \u001b[1;32melse\u001b[0m\u001b[1;33m:\u001b[0m\u001b[1;33m\u001b[0m\u001b[1;33m\u001b[0m\u001b[0m\n",
      "\u001b[1;32m~\\anaconda3\\lib\\site-packages\\numpy\\core\\_methods.py\u001b[0m in \u001b[0;36m_mean\u001b[1;34m(a, axis, dtype, out, keepdims, where)\u001b[0m\n\u001b[0;32m    179\u001b[0m     \u001b[0mret\u001b[0m \u001b[1;33m=\u001b[0m \u001b[0mumr_sum\u001b[0m\u001b[1;33m(\u001b[0m\u001b[0marr\u001b[0m\u001b[1;33m,\u001b[0m \u001b[0maxis\u001b[0m\u001b[1;33m,\u001b[0m \u001b[0mdtype\u001b[0m\u001b[1;33m,\u001b[0m \u001b[0mout\u001b[0m\u001b[1;33m,\u001b[0m \u001b[0mkeepdims\u001b[0m\u001b[1;33m,\u001b[0m \u001b[0mwhere\u001b[0m\u001b[1;33m=\u001b[0m\u001b[0mwhere\u001b[0m\u001b[1;33m)\u001b[0m\u001b[1;33m\u001b[0m\u001b[1;33m\u001b[0m\u001b[0m\n\u001b[0;32m    180\u001b[0m     \u001b[1;32mif\u001b[0m \u001b[0misinstance\u001b[0m\u001b[1;33m(\u001b[0m\u001b[0mret\u001b[0m\u001b[1;33m,\u001b[0m \u001b[0mmu\u001b[0m\u001b[1;33m.\u001b[0m\u001b[0mndarray\u001b[0m\u001b[1;33m)\u001b[0m\u001b[1;33m:\u001b[0m\u001b[1;33m\u001b[0m\u001b[1;33m\u001b[0m\u001b[0m\n\u001b[1;32m--> 181\u001b[1;33m         ret = um.true_divide(\n\u001b[0m\u001b[0;32m    182\u001b[0m                 ret, rcount, out=ret, casting='unsafe', subok=False)\n\u001b[0;32m    183\u001b[0m         \u001b[1;32mif\u001b[0m \u001b[0mis_float16_result\u001b[0m \u001b[1;32mand\u001b[0m \u001b[0mout\u001b[0m \u001b[1;32mis\u001b[0m \u001b[1;32mNone\u001b[0m\u001b[1;33m:\u001b[0m\u001b[1;33m\u001b[0m\u001b[1;33m\u001b[0m\u001b[0m\n",
      "\u001b[1;31mTypeError\u001b[0m: unsupported operand type(s) for /: 'str' and 'int'"
     ]
    }
   ],
   "source": [
    "\n",
    "#for (columnName, columnData) in df.iteritems():\n",
    "#        name = \"'\" + columnName + \"'\"\n",
    "#        name2 = df[name]\n",
    "#        if name == 'G1':\n",
    "#            break\n",
    "#        else:\n",
    " #           print(name)\n",
    " #           corr = df[name2].corr(df['G3'])\n",
    "\n",
    "print(\"school\")\n",
    "corr = df['school'].corr(df['G3'])\n",
    "print(corr)\n",
    "print(\"sex\")\n",
    "corr = df['sex'].corr(df['G3'])\n",
    "print(corr)\n",
    "print(\"age\")\n",
    "corr = df['age'].corr(df['G3'])\n",
    "print(corr)\n",
    "print(\"address\")\n",
    "corr = df['address'].corr(df['G3'])\n",
    "print(corr)\n",
    "print(\"famsize\")\n",
    "corr = df['famsize'].corr(df['G3'])\n",
    "print(corr)\n",
    "print(\"Pstatus\")\n",
    "corr = df['Pstatus'].corr(df['G3'])\n",
    "print(corr)\n",
    "print(\"Medu\")\n",
    "corr = df['Medu'].corr(df['G3'])\n",
    "print(corr)\n",
    "print(\"Fedu\")\n",
    "corr = df['Fedu'].corr(df['G3'])\n",
    "print(corr)\n",
    "print(\"Mjob\")\n",
    "corr = df['Mjob'].corr(df['G3'])\n",
    "print(corr)\n",
    "print(\"Fjob\")\n",
    "corr = df['Fjob'].corr(df['G3'])\n",
    "print(corr)\n",
    "print(\"reason\")\n",
    "corr = df['reason'].corr(df['G3'])\n",
    "print(corr)\n",
    "print(\"guardian\")\n",
    "corr = df['guardian'].corr(df['G3'])\n",
    "print(corr)\n",
    "print(\"traveltime\")\n",
    "corr = df['traveltime'].corr(df['G3'])\n",
    "print(corr)\n",
    "print(\"studytime\")\n",
    "corr = df['studytime'].corr(df['G3'])\n",
    "print(corr)\n",
    "print(\"failures\")\n",
    "corr = df['failures'].corr(df['G3'])\n",
    "print(corr)\n",
    "print(\"schoolsup\")\n",
    "corr = df['schoolsup'].corr(df['G3'])\n",
    "print(corr)\n",
    "print(\"famsup\")\n",
    "corr = df['famsup'].corr(df['G3'])\n",
    "print(corr)\n",
    "print(\"paid\")\n",
    "corr = df['paid'].corr(df['G3'])\n",
    "print(corr)\n",
    "print(\"activities\")\n",
    "corr = df['activities'].corr(df['G3'])\n",
    "print(corr)\n",
    "print(\"nursery\")\n",
    "corr = df['nursery'].corr(df['G3'])\n",
    "print(corr)\n",
    "print(\"higher\")\n",
    "corr = df['higher'].corr(df['G3'])\n",
    "print(corr)\n",
    "print(\"internet\")\n",
    "corr = df['internet'].corr(df['G3'])\n",
    "print(corr)\n",
    "print(\"romantic\")\n",
    "corr = df['romantic'].corr(df['G3'])\n",
    "print(corr)\n",
    "print(\"famrel\")\n",
    "corr = df['famrel'].corr(df['G3'])\n",
    "print(corr)\n",
    "print(\"freetime\")\n",
    "corr = df['freetime'].corr(df['G3'])\n",
    "print(corr)\n",
    "print(\"goout\")\n",
    "corr = df['goout'].corr(df['G3'])\n",
    "print(corr)\n",
    "print(\"prin\")\n",
    "corr = df['prin'].corr(df['G3'])\n",
    "print(corr)\n",
    "print(\"Walc\")\n",
    "corr = df['Walc'].corr(df['G3'])\n",
    "print(corr)\n",
    "print(\"health\")\n",
    "corr = df['health'].corr(df['G3'])\n",
    "print(corr)\n",
    "print(\"absences\")\n",
    "corr = df['absences'].corr(df['G3'])\n",
    "print(corr)\n"
   ]
  },
  {
   "cell_type": "markdown",
   "id": "a8ad8027",
   "metadata": {},
   "source": [
    "# Text answer for question 10.  Please identify the column and correlation."
   ]
  },
  {
   "cell_type": "markdown",
   "id": "a9974444",
   "metadata": {},
   "source": [
    "text..."
   ]
  }
 ],
 "metadata": {
  "kernelspec": {
   "display_name": "Python 3 (ipykernel)",
   "language": "python",
   "name": "python3"
  },
  "language_info": {
   "codemirror_mode": {
    "name": "ipython",
    "version": 3
   },
   "file_extension": ".py",
   "mimetype": "text/x-python",
   "name": "python",
   "nbconvert_exporter": "python",
   "pygments_lexer": "ipython3",
   "version": "3.9.13"
  }
 },
 "nbformat": 4,
 "nbformat_minor": 5
}
